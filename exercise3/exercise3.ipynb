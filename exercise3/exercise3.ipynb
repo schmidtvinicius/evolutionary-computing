{
 "cells": [
  {
   "cell_type": "code",
   "execution_count": 58,
   "metadata": {},
   "outputs": [],
   "source": [
    "import string\n",
    "import numpy as np"
   ]
  },
  {
   "cell_type": "code",
   "execution_count": 59,
   "metadata": {},
   "outputs": [],
   "source": [
    "alphabet = string.ascii_letters\n",
    "pc = 1\n",
    "target = ''\n",
    "mutation_rate = 0.5\n",
    "N = 200\n",
    "\n",
    "def generate_target_string(length=15, alphabet=alphabet) -> str:\n",
    "    target = ''\n",
    "    for _ in np.arange(length):\n",
    "        character_index = np.random.randint(0, len(alphabet))\n",
    "        target += alphabet[character_index]\n",
    "    return target\n",
    "\n",
    "def calculate_fitness(target: str, candidate: str) -> float:\n",
    "    if len(target) != len(candidate):\n",
    "        raise RuntimeError('strings should be the same length')\n",
    "    \n",
    "\n",
    "    print(f'comparing target {target} to candidate {candidate}')\n",
    "    \n",
    "    fitness_score = 0\n",
    "    for target_char, candidate_char in zip(target, candidate):\n",
    "        if target_char == candidate_char:\n",
    "            fitness_score += 1\n",
    "    return fitness_score/(len(target))"
   ]
  }
 ],
 "metadata": {
  "kernelspec": {
   "display_name": "main_env",
   "language": "python",
   "name": "python3"
  },
  "language_info": {
   "codemirror_mode": {
    "name": "ipython",
    "version": 3
   },
   "file_extension": ".py",
   "mimetype": "text/x-python",
   "name": "python",
   "nbconvert_exporter": "python",
   "pygments_lexer": "ipython3",
   "version": "3.10.4"
  }
 },
 "nbformat": 4,
 "nbformat_minor": 2
}
